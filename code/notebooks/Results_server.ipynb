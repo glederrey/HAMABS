{
 "cells": [
  {
   "cell_type": "code",
   "execution_count": 1,
   "metadata": {},
   "outputs": [],
   "source": [
    "import os\n",
    "os.chdir('..')"
   ]
  },
  {
   "cell_type": "code",
   "execution_count": 14,
   "metadata": {},
   "outputs": [],
   "source": [
    "data_folder = '../data/'\n",
    "server_folder = './server/'\n",
    "template_folder = './templates/'\n",
    "\n",
    "import numpy as np\n",
    "import json\n",
    "\n",
    "# For the Python notebook\n",
    "%matplotlib inline\n",
    "%reload_ext autoreload\n",
    "%autoreload 2"
   ]
  },
  {
   "cell_type": "code",
   "execution_count": 28,
   "metadata": {},
   "outputs": [],
   "source": [
    "directions = ['grad', 'hess', 'bfgs', 'hybrid']\n",
    "types = ['LS', 'LS-ABS', 'TR', 'TR-ABS']\n",
    "\n",
    "unfeasible = ['TR_grad', 'TR-ABS_grad', 'LS_hybrid', 'TR_hybrid']\n",
    "\n",
    "combinations = []\n",
    "\n",
    "# Add all combinations\n",
    "for d in directions:\n",
    "    for t in types:\n",
    "        str_ = t + '_' + d\n",
    "        \n",
    "        if str_ not in unfeasible:\n",
    "            combinations.append(str_)"
   ]
  },
  {
   "cell_type": "code",
   "execution_count": 29,
   "metadata": {},
   "outputs": [
    {
     "data": {
      "text/plain": [
       "['LS_grad',\n",
       " 'LS-ABS_grad',\n",
       " 'LS_hess',\n",
       " 'LS-ABS_hess',\n",
       " 'TR_hess',\n",
       " 'TR-ABS_hess',\n",
       " 'LS_bfgs',\n",
       " 'LS-ABS_bfgs',\n",
       " 'TR_bfgs',\n",
       " 'TR-ABS_bfgs',\n",
       " 'LS-ABS_hybrid',\n",
       " 'TR-ABS_hybrid']"
      ]
     },
     "execution_count": 29,
     "metadata": {},
     "output_type": "execute_result"
    }
   ],
   "source": [
    "combinations"
   ]
  },
  {
   "cell_type": "code",
   "execution_count": 31,
   "metadata": {
    "scrolled": false
   },
   "outputs": [
    {
     "name": "stdout",
     "output_type": "stream",
     "text": [
      "LPMC_RemoveRest:\n",
      "  LS_grad:\n",
      "    time: $528.29 \\pm 0.25$ [s]\n",
      "    epochs: $1000.00 \\pm 0.00$\n",
      "  LS-ABS_grad:\n",
      "    time: $529.82 \\pm 1.83$ [s]\n",
      "    epochs: $1000.58 \\pm 0.21$\n",
      "  LS_hess:\n",
      "    time: $114.70 \\pm 0.83$ [s]\n",
      "    epochs: $22.00 \\pm 0.00$\n",
      "  LS-ABS_hess:\n",
      "    time: $93.63 \\pm 6.03$ [s]\n",
      "    epochs: $18.32 \\pm 1.23$\n",
      "  TR_hess:\n",
      "    time: $43.09 \\pm 0.45$ [s]\n",
      "    epochs: $8.00 \\pm 0.00$\n",
      "  TR-ABS_hess:\n",
      "    time: $32.16 \\pm 1.79$ [s]\n",
      "    epochs: $6.41 \\pm 0.35$\n",
      "  LS_bfgs:\n",
      "    time: $86.08 \\pm 0.15$ [s]\n",
      "    epochs: $102.00 \\pm 0.00$\n",
      "  LS-ABS_bfgs:\n",
      "    time: $74.20 \\pm 3.14$ [s]\n",
      "    epochs: $88.72 \\pm 3.96$\n",
      "  TR_bfgs:\n",
      "    time: $522.54 \\pm 0.59$ [s]\n",
      "    epochs: $1000.00 \\pm 0.00$\n",
      "  TR-ABS_bfgs:\n",
      "    time: $520.25 \\pm 8.43$ [s]\n",
      "    epochs: $990.99 \\pm 16.16$\n",
      "  LS-ABS_hybrid:\n",
      "    time: $52.53 \\pm 3.41$ [s]\n",
      "    epochs: $62.33 \\pm 5.20$\n",
      "  TR-ABS_hybrid:\n",
      "    time: $83.31 \\pm 5.28$ [s]\n",
      "    epochs: $170.32 \\pm 11.27$\n",
      "\n",
      "\n"
     ]
    }
   ],
   "source": [
    "models = ['LPMC_RemoveRest']\n",
    "\n",
    "for mod in models:\n",
    "    print(mod + ':')\n",
    "    for comb in combinations:\n",
    "\n",
    "        with open(server_folder + model + '/results/' + comb + '.json', 'r') as infile:\n",
    "            data = json.load(infile)\n",
    "\n",
    "        print('  ' + comb + ':')\n",
    "        \n",
    "        avg_time = np.mean(data['time'])\n",
    "        std_time = np.std(data['time'])\n",
    "\n",
    "        print('    time: ${:.2f} \\pm {:.2f}$ [s]'.format(avg_time, std_time))\n",
    "\n",
    "        avg_epochs = np.mean(data['epochs'])\n",
    "        std_epochs = np.std(data['epochs'])\n",
    "\n",
    "        print('    epochs: ${:.2f} \\pm {:.2f}$'.format(avg_epochs, std_epochs))\n",
    "\n",
    "    print('\\n')"
   ]
  },
  {
   "cell_type": "code",
   "execution_count": null,
   "metadata": {},
   "outputs": [],
   "source": []
  }
 ],
 "metadata": {
  "kernelspec": {
   "display_name": "Python 3",
   "language": "python",
   "name": "python3"
  },
  "language_info": {
   "codemirror_mode": {
    "name": "ipython",
    "version": 3
   },
   "file_extension": ".py",
   "mimetype": "text/x-python",
   "name": "python",
   "nbconvert_exporter": "python",
   "pygments_lexer": "ipython3",
   "version": "3.6.3"
  }
 },
 "nbformat": 4,
 "nbformat_minor": 2
}
