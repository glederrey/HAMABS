{
 "cells": [
  {
   "cell_type": "code",
   "execution_count": 1,
   "metadata": {},
   "outputs": [],
   "source": [
    "import os\n",
    "os.chdir('..')"
   ]
  },
  {
   "cell_type": "code",
   "execution_count": 2,
   "metadata": {},
   "outputs": [],
   "source": [
    "import numpy as np\n",
    "import pandas as pd\n",
    "\n",
    "data_folder = '../data/'\n",
    "\n",
    "import matplotlib.pyplot as plt\n",
    "from sklearn.preprocessing import StandardScaler\n",
    "from sklearn.decomposition import PCA\n",
    "from scipy.spatial import distance\n",
    "import seaborn as sns\n",
    "\n",
    "sns.set(font_scale=1.5)\n",
    "\n",
    "data = '../data/'\n",
    "figures = '../figures/'\n",
    "\n",
    "# For the Python notebook\n",
    "%matplotlib inline\n",
    "%reload_ext autoreload\n",
    "%autoreload 2"
   ]
  },
  {
   "cell_type": "markdown",
   "metadata": {},
   "source": [
    "# Load the datasets"
   ]
  },
  {
   "cell_type": "code",
   "execution_count": 3,
   "metadata": {},
   "outputs": [],
   "source": [
    "df1 = pd.read_csv(data_folder + 'GEV_SM/swissmetro.dat', sep='\\t')\n",
    "df2 = pd.read_csv(data_folder + 'Optima/optima.dat', sep='\\t')\n",
    "df3 = pd.read_csv(data_folder + 'LondonTravel/12_13_14.csv')\n",
    "df4 = pd.read_csv(data_folder + 'AirlineItinerary/airline.dat', sep='\\t')\n",
    "df5 = pd.read_csv(data_folder + 'Netherlands/netherlands.dat', sep='\\t')\n",
    "df6 = pd.read_csv(data_folder + 'Parking/parking.dat', sep='\\t')\n",
    "df7 = pd.read_csv(data_folder + 'Telephone/telephone.dat', sep='\\t')\n",
    "\n",
    "df1_ml = pd.read_csv(data_folder + 'Iris/iris.data', names=['1', '2', '3', '4', 'label'])\n",
    "df2_ml = pd.read_csv(data_folder + 'BikeSharing/train_bike_sharing.csv')\n",
    "df3_ml = pd.read_csv(data_folder + 'MNIST/train.dat', sep=' ', header=None)"
   ]
  },
  {
   "cell_type": "code",
   "execution_count": 4,
   "metadata": {},
   "outputs": [],
   "source": [
    "df1_ml = df1_ml.drop(columns='label')\n",
    "df5 = df5.dropna()"
   ]
  },
  {
   "cell_type": "code",
   "execution_count": 5,
   "metadata": {},
   "outputs": [],
   "source": [
    "df3 = df3.sample(20000)\n",
    "df3_ml = df3_ml.sample(10000)"
   ]
  },
  {
   "cell_type": "code",
   "execution_count": 9,
   "metadata": {},
   "outputs": [],
   "source": [
    "dfs = [df1, df2, df3, df4, df5, df6, df7, df1_ml, df2_ml, df3_ml]\n",
    "labels = ['Swissmetro', 'Optima', 'LondonTravel', 'Airline \\nItinerary', 'Mode Choice \\nNetherlands', 'Parking \\nSpain', 'Telephone', 'Iris (ML)', 'Bike Sharing (ML)', 'MNIST (ML)']"
   ]
  },
  {
   "cell_type": "code",
   "execution_count": 7,
   "metadata": {},
   "outputs": [
    {
     "name": "stdout",
     "output_type": "stream",
     "text": [
      "1: Swissmetro\n"
     ]
    },
    {
     "name": "stderr",
     "output_type": "stream",
     "text": [
      "/home/gael/Applications/anaconda/lib/python3.6/site-packages/sklearn/utils/validation.py:595: DataConversionWarning: Data with input dtype int64 was converted to float64 by StandardScaler.\n",
      "  warnings.warn(msg, DataConversionWarning)\n",
      "/home/gael/Applications/anaconda/lib/python3.6/site-packages/sklearn/utils/validation.py:595: DataConversionWarning: Data with input dtype int64 was converted to float64 by StandardScaler.\n",
      "  warnings.warn(msg, DataConversionWarning)\n"
     ]
    },
    {
     "name": "stdout",
     "output_type": "stream",
     "text": [
      "2: Optima\n",
      "3: LondonTravel\n",
      "4: Airline Itinerary\n",
      "5: Mode Choice \n",
      "Netherlands\n",
      "6: Parking in Spain\n",
      "7: Telephone\n",
      "8: Iris (ML)\n",
      "9: Bike Sharing (ML)\n",
      "10: MNIST (ML)\n"
     ]
    }
   ],
   "source": [
    "dists = []\n",
    "\n",
    "for i in range(len(dfs)):\n",
    "    print(\"{}: {}\".format(i+1, labels[i]))\n",
    "    # Transform df in matrix\n",
    "    x = np.matrix(dfs[i])\n",
    "    \n",
    "    # Standardizing the features\n",
    "    x = StandardScaler().fit_transform(x)\n",
    "    tmp = distance.cdist(x, x, 'correlation')\n",
    "    iu2 = np.triu_indices(len(x), 1)\n",
    "    dists.append(tmp[iu2]/len(dfs[i].columns))"
   ]
  },
  {
   "cell_type": "code",
   "execution_count": 10,
   "metadata": {},
   "outputs": [
    {
     "data": {
      "text/plain": [
       "Text(0, 0.5, 'Correlation')"
      ]
     },
     "execution_count": 10,
     "metadata": {},
     "output_type": "execute_result"
    },
    {
     "data": {
      "image/png": "[encoded data removed]",
      "text/plain": [
       "<Figure size 720x504 with 1 Axes>"
      ]
     },
     "metadata": {},
     "output_type": "display_data"
    }
   ],
   "source": [
    "plt.figure(figsize=(10, 7), frameon=False)\n",
    "\n",
    "sns.set_context(\"paper\")\n",
    "sns.set(font_scale = 1.3)\n",
    "sns.set_style(\"white\", {\n",
    "    \"font.family\": \"sans-serif\",\n",
    "    \"font.serif\": ['Helvetica'],\n",
    "    \"font.scale\": 2\n",
    "})\n",
    "sns.set_style(\"ticks\", {\"xtick.major.size\": 4,\n",
    "                        \"ytick.major.size\": 4})\n",
    "\n",
    "ax = plt.subplot(111)\n",
    "ax.spines['right'].set_visible(False)\n",
    "ax.spines['top'].set_visible(False)\n",
    "\n",
    "flierprops = dict(markerfacecolor='grey', markersize=5, alpha=0.5, linestyle='none')\n",
    "\n",
    "bp = plt.boxplot(dists, flierprops=flierprops)\n",
    "\n",
    "for box in bp['boxes']:\n",
    "    # change outline color\n",
    "    box.set(linewidth=2)\n",
    "    \n",
    "for whisker in bp['whiskers']:\n",
    "    whisker.set(linewidth=2)\n",
    "\n",
    "## change color and linewidth of the caps\n",
    "for cap in bp['caps']:\n",
    "    cap.set(linewidth=2)\n",
    "\n",
    "## change color and linewidth of the medians\n",
    "for median in bp['medians']:\n",
    "    median.set(linewidth=2)\n",
    "\n",
    "\n",
    "plt.xticks(np.array(range(1, len(labels)+1)), labels)\n",
    "#plt.grid()\n",
    "plt.ylabel('Correlation')\n",
    "#plt.savefig(figures + 'corr.pdf', bbox_inches='tight')\n",
    "#plt.savefig(figures + 'corr.png', bbox_inches='tight')"
   ]
  },
  {
   "cell_type": "code",
   "execution_count": null,
   "metadata": {},
   "outputs": [],
   "source": []
  }
 ],
 "metadata": {
  "kernelspec": {
   "display_name": "Python 3",
   "language": "python",
   "name": "python3"
  },
  "language_info": {
   "codemirror_mode": {
    "name": "ipython",
    "version": 3
   },
   "file_extension": ".py",
   "mimetype": "text/x-python",
   "name": "python",
   "nbconvert_exporter": "python",
   "pygments_lexer": "ipython3",
   "version": "3.6.3"
  }
 },
 "nbformat": 4,
 "nbformat_minor": 2
}
