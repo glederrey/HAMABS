{
 "cells": [
  {
   "cell_type": "code",
   "execution_count": 1,
   "metadata": {},
   "outputs": [],
   "source": [
    "import os\n",
    "os.chdir('..')"
   ]
  },
  {
   "cell_type": "code",
   "execution_count": 2,
   "metadata": {},
   "outputs": [],
   "source": [
    "data_folder = '../data/'\n",
    "server_folder = './server/'\n",
    "template_folder = './templates/'\n",
    "\n",
    "import numpy as np\n",
    "import json\n",
    "\n",
    "# For the Python notebook\n",
    "%matplotlib inline\n",
    "%reload_ext autoreload\n",
    "%autoreload 2"
   ]
  },
  {
   "cell_type": "code",
   "execution_count": 3,
   "metadata": {},
   "outputs": [],
   "source": [
    "directions = ['grad', 'hess', 'bfgs', 'hybrid']\n",
    "types = ['LS', 'LS-ABS', 'TR', 'TR-ABS']\n",
    "\n",
    "unfeasible = ['TR_grad', 'TR-ABS_grad', 'LS_hybrid', 'TR_hybrid']\n",
    "\n",
    "combinations = []\n",
    "\n",
    "# Add all combinations\n",
    "for d in directions:\n",
    "    for t in types:\n",
    "        str_ = t + '_' + d\n",
    "        \n",
    "        if str_ not in unfeasible:\n",
    "            combinations.append(str_)"
   ]
  },
  {
   "cell_type": "code",
   "execution_count": 4,
   "metadata": {},
   "outputs": [],
   "source": [
    "models = ['MNL', \n",
    "          'LPMC_DrivingCost_small', \n",
    "          'LPMC_DrivingCost', \n",
    "          'LPMC_DrivingCost_big',\n",
    "          'LPMC_RemoveRest_small',\n",
    "          'LPMC_RemoveRest']"
   ]
  },
  {
   "cell_type": "code",
   "execution_count": 5,
   "metadata": {
    "scrolled": false
   },
   "outputs": [
    {
     "name": "stdout",
     "output_type": "stream",
     "text": [
      "MNL:\n",
      "  LS_grad:\n",
      "    time: $0.908 \\pm 0.018$ [s]\n",
      "    epochs: $39.00 \\pm 0.00$\n",
      "  LS-ABS_grad:\n",
      "    time: $1.014 \\pm 0.153$ [s]\n",
      "    epochs: $30.85 \\pm 6.66$\n",
      "  LS_hess:\n",
      "    time: $0.240 \\pm 0.007$ [s]\n",
      "    epochs: $8.00 \\pm 0.00$\n",
      "  LS-ABS_hess:\n",
      "    time: $0.464 \\pm 0.031$ [s]\n",
      "    epochs: $11.25 \\pm 0.78$\n",
      "  TR_hess:\n",
      "    time: $0.113 \\pm 0.005$ [s]\n",
      "    epochs: $5.00 \\pm 0.00$\n",
      "  TR-ABS_hess:\n",
      "    time: $0.300 \\pm 0.019$ [s]\n",
      "    epochs: $7.25 \\pm 0.28$\n",
      "  LS_bfgs:\n",
      "    time: $0.474 \\pm 0.008$ [s]\n",
      "    epochs: $12.00 \\pm 0.00$\n",
      "  LS-ABS_bfgs:\n",
      "    time: $0.623 \\pm 0.049$ [s]\n",
      "    epochs: $12.56 \\pm 1.30$\n",
      "  TR_bfgs:\n",
      "    time: $0.710 \\pm 0.007$ [s]\n",
      "    epochs: $31.00 \\pm 0.00$\n",
      "  TR-ABS_bfgs:\n",
      "    time: $0.782 \\pm 0.073$ [s]\n",
      "    epochs: $27.04 \\pm 3.10$\n",
      "  LS-ABS_hybrid:\n",
      "    time: $0.592 \\pm 0.046$ [s]\n",
      "    epochs: $12.68 \\pm 1.39$\n",
      "  TR-ABS_hybrid:\n",
      "    time: $0.596 \\pm 0.051$ [s]\n",
      "    epochs: $19.44 \\pm 2.14$\n",
      "\n",
      "\n",
      "Nested:\n"
     ]
    },
    {
     "ename": "FileNotFoundError",
     "evalue": "[Errno 2] No such file or directory: './server/Nested/results/LS_grad.json'",
     "output_type": "error",
     "traceback": [
      "\u001b[0;31m---------------------------------------------------------------------------\u001b[0m",
      "\u001b[0;31mFileNotFoundError\u001b[0m                         Traceback (most recent call last)",
      "\u001b[0;32m<ipython-input-5-0e058d0277c4>\u001b[0m in \u001b[0;36m<module>\u001b[0;34m\u001b[0m\n\u001b[1;32m      3\u001b[0m     \u001b[0;32mfor\u001b[0m \u001b[0mcomb\u001b[0m \u001b[0;32min\u001b[0m \u001b[0mcombinations\u001b[0m\u001b[0;34m:\u001b[0m\u001b[0;34m\u001b[0m\u001b[0m\n\u001b[1;32m      4\u001b[0m \u001b[0;34m\u001b[0m\u001b[0m\n\u001b[0;32m----> 5\u001b[0;31m         \u001b[0;32mwith\u001b[0m \u001b[0mopen\u001b[0m\u001b[0;34m(\u001b[0m\u001b[0mserver_folder\u001b[0m \u001b[0;34m+\u001b[0m \u001b[0mmod\u001b[0m \u001b[0;34m+\u001b[0m \u001b[0;34m'/results/'\u001b[0m \u001b[0;34m+\u001b[0m \u001b[0mcomb\u001b[0m \u001b[0;34m+\u001b[0m \u001b[0;34m'.json'\u001b[0m\u001b[0;34m,\u001b[0m \u001b[0;34m'r'\u001b[0m\u001b[0;34m)\u001b[0m \u001b[0;32mas\u001b[0m \u001b[0minfile\u001b[0m\u001b[0;34m:\u001b[0m\u001b[0;34m\u001b[0m\u001b[0m\n\u001b[0m\u001b[1;32m      6\u001b[0m             \u001b[0mdata\u001b[0m \u001b[0;34m=\u001b[0m \u001b[0mjson\u001b[0m\u001b[0;34m.\u001b[0m\u001b[0mload\u001b[0m\u001b[0;34m(\u001b[0m\u001b[0minfile\u001b[0m\u001b[0;34m)\u001b[0m\u001b[0;34m\u001b[0m\u001b[0m\n\u001b[1;32m      7\u001b[0m \u001b[0;34m\u001b[0m\u001b[0m\n",
      "\u001b[0;31mFileNotFoundError\u001b[0m: [Errno 2] No such file or directory: './server/Nested/results/LS_grad.json'"
     ]
    }
   ],
   "source": [
    "for mod in models:\n",
    "    print(mod + ':')\n",
    "    for comb in combinations:\n",
    "\n",
    "        with open(server_folder + mod + '/results/' + comb + '.json', 'r') as infile:\n",
    "            data = json.load(infile)\n",
    "\n",
    "        print('  ' + comb + ':')\n",
    "        \n",
    "        avg_time = np.mean(data['time'])\n",
    "        std_time = np.std(data['time'])\n",
    "        \n",
    "        if 'LPMC' in mod:\n",
    "            print('    time: ${:.2f} \\pm {:.2f}$ [s]'.format(avg_time, std_time))\n",
    "        else:  \n",
    "            print('    time: ${:.3f} \\pm {:.3f}$ [s]'.format(avg_time, std_time))\n",
    "\n",
    "        avg_epochs = np.mean(data['epochs'])\n",
    "        std_epochs = np.std(data['epochs'])\n",
    "        \n",
    "        print('    epochs: ${:.2f} \\pm {:.2f}$'.format(avg_epochs, std_epochs))\n",
    "\n",
    "    print('\\n')"
   ]
  },
  {
   "cell_type": "code",
   "execution_count": null,
   "metadata": {},
   "outputs": [],
   "source": []
  }
 ],
 "metadata": {
  "kernelspec": {
   "display_name": "Python 3",
   "language": "python",
   "name": "python3"
  },
  "language_info": {
   "codemirror_mode": {
    "name": "ipython",
    "version": 3
   },
   "file_extension": ".py",
   "mimetype": "text/x-python",
   "name": "python",
   "nbconvert_exporter": "python",
   "pygments_lexer": "ipython3",
   "version": "3.6.3"
  }
 },
 "nbformat": 4,
 "nbformat_minor": 2
}
