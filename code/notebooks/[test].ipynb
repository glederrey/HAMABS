{
 "cells": [
  {
   "cell_type": "code",
   "execution_count": 1,
   "metadata": {},
   "outputs": [],
   "source": [
    "import os\n",
    "os.chdir('..')"
   ]
  },
  {
   "cell_type": "code",
   "execution_count": 2,
   "metadata": {},
   "outputs": [],
   "source": [
    "from models import SM_MNL\n",
    "from models import SM_Nested\n",
    "from models import LPMC_Full\n",
    "from models import LPMC_DC\n",
    "from models import MTMC\n",
    "from algos import OptAlg\n",
    "\n",
    "import numpy as np\n",
    "import matplotlib.pyplot as plt\n",
    "import seaborn as sns\n",
    "import time\n",
    "\n",
    "sns.set(font_scale=1.5)\n",
    "\n",
    "data_folder = '../data/'\n",
    "figures_folder = '../figures/'\n",
    "\n",
    "# For the Python notebook\n",
    "%matplotlib inline\n",
    "%reload_ext autoreload\n",
    "%autoreload 2"
   ]
  },
  {
   "cell_type": "code",
   "execution_count": 3,
   "metadata": {},
   "outputs": [],
   "source": [
    "model = SM_MNL(data_folder)"
   ]
  },
  {
   "cell_type": "code",
   "execution_count": 7,
   "metadata": {},
   "outputs": [],
   "source": [
    "ioa = OptAlg(alg_type='LS', direction='bfgs-inv')\n",
    "#ioa = OptAlg(alg_type='TR', direction='hess')"
   ]
  },
  {
   "cell_type": "code",
   "execution_count": 8,
   "metadata": {
    "scrolled": false
   },
   "outputs": [
    {
     "name": "stderr",
     "output_type": "stream",
     "text": [
      "Maximizing the problem using a Line Search IOA with the BFGS direction.\n",
      "Epoch 0:\n",
      "  xk = [0.000, 0.000, 0.000, 0.000]\n",
      "  f(xk) = 1.029\n",
      "  ||gk|| = 3.573E-01\n",
      "  stop_crit = 0.000E+00\n",
      "  ||dir|| = 3.573E-01\n",
      "  alpha = 1.000E+00\n",
      "\n",
      "Epoch 1.0:\n",
      "  xk = [-0.015, -0.228, -0.033, -0.273]\n",
      "  f(xk) = 0.923\n",
      "  ||gk|| = 2.394E-01\n",
      "  stop_crit = 5.401E-02\n",
      "  ||dir|| = 7.332E-01\n",
      "  alpha = 1.000E+00\n",
      "\n",
      "Epoch 2.0:\n",
      "  xk = [-0.076, -0.678, -0.166, -0.832]\n",
      "  f(xk) = 0.820\n",
      "  ||gk|| = 7.239E-02\n",
      "  stop_crit = 3.754E-02\n",
      "  ||dir|| = 2.337E-01\n",
      "  alpha = 1.000E+00\n",
      "\n",
      "Epoch 3.0:\n",
      "  xk = [-0.094, -0.805, -0.267, -1.000]\n",
      "  f(xk) = 0.809\n",
      "  ||gk|| = 5.557E-02\n",
      "  stop_crit = 1.824E-02\n",
      "  ||dir|| = 2.003E-01\n",
      "  alpha = 1.000E+00\n",
      "\n",
      "Epoch 4.0:\n",
      "  xk = [-0.104, -0.886, -0.407, -1.119]\n",
      "  f(xk) = 0.803\n",
      "  ||gk|| = 5.165E-02\n",
      "  stop_crit = 2.395E-02\n",
      "  ||dir|| = 2.279E-01\n",
      "  alpha = 1.000E+00\n",
      "\n",
      "Epoch 5.0:\n",
      "  xk = [-0.108, -0.933, -0.610, -1.210]\n",
      "  f(xk) = 0.798\n",
      "  ||gk|| = 4.604E-02\n",
      "  stop_crit = 2.939E-02\n",
      "  ||dir|| = 2.621E-01\n",
      "  alpha = 1.000E+00\n",
      "\n",
      "Epoch 6.0:\n",
      "  xk = [-0.110, -0.926, -0.868, -1.256]\n",
      "  f(xk) = 0.792\n",
      "  ||gk|| = 3.373E-02\n",
      "  stop_crit = 2.919E-02\n",
      "  ||dir|| = 1.872E-01\n",
      "  alpha = 1.000E+00\n",
      "\n",
      "Epoch 7.0:\n",
      "  xk = [-0.118, -0.865, -1.044, -1.237]\n",
      "  f(xk) = 0.789\n",
      "  ||gk|| = 2.026E-02\n",
      "  stop_crit = 1.786E-02\n",
      "  ||dir|| = 8.089E-02\n",
      "  alpha = 1.000E+00\n",
      "\n",
      "Epoch 8.0:\n",
      "  xk = [-0.133, -0.809, -1.089, -1.203]\n",
      "  f(xk) = 0.788\n",
      "  ||gk|| = 1.398E-02\n",
      "  stop_crit = 7.789E-03\n",
      "  ||dir|| = 3.635E-02\n",
      "  alpha = 1.000E+00\n",
      "\n",
      "Epoch 9.0:\n",
      "  xk = [-0.149, -0.780, -1.083, -1.190]\n",
      "  f(xk) = 0.788\n",
      "  ||gk|| = 1.067E-02\n",
      "  stop_crit = 8.869E-03\n",
      "  ||dir|| = 3.383E-02\n",
      "  alpha = 1.000E+00\n",
      "\n",
      "Epoch 10.0:\n",
      "  xk = [-0.172, -0.758, -1.071, -1.193]\n",
      "  f(xk) = 0.788\n",
      "  ||gk|| = 6.274E-03\n",
      "  stop_crit = 8.064E-03\n",
      "  ||dir|| = 2.351E-02\n",
      "  alpha = 1.000E+00\n",
      "\n",
      "Epoch 11.0:\n",
      "  xk = [-0.188, -0.752, -1.073, -1.208]\n",
      "  f(xk) = 0.788\n",
      "  ||gk|| = 3.016E-03\n",
      "  stop_crit = 4.593E-03\n",
      "  ||dir|| = 1.771E-02\n",
      "  alpha = 1.000E+00\n",
      "\n",
      "Epoch 12.0:\n",
      "  xk = [-0.194, -0.752, -1.082, -1.222]\n",
      "  f(xk) = 0.788\n",
      "  ||gk|| = 2.178E-03\n",
      "  stop_crit = 2.009E-03\n",
      "  ||dir|| = 9.130E-03\n",
      "  alpha = 1.000E+00\n",
      "\n",
      "Epoch 13.0:\n",
      "  xk = [-0.194, -0.752, -1.089, -1.229]\n",
      "  f(xk) = 0.788\n",
      "  ||gk|| = 2.131E-03\n",
      "  stop_crit = 1.150E-03\n",
      "  ||dir|| = 1.189E-02\n",
      "  alpha = 1.000E+00\n",
      "\n",
      "Epoch 14.0:\n",
      "  xk = [-0.190, -0.749, -1.095, -1.237]\n",
      "  f(xk) = 0.788\n",
      "  ||gk|| = 2.126E-03\n",
      "  stop_crit = 1.433E-03\n",
      "  ||dir|| = 2.067E-02\n",
      "  alpha = 8.391E-01\n",
      "\n",
      "Epoch 15.0:\n",
      "  xk = [-0.183, -0.741, -1.101, -1.250]\n",
      "  f(xk) = 0.788\n",
      "  ||gk|| = 2.079E-03\n",
      "  stop_crit = 1.538E-03\n",
      "  ||dir|| = 3.262E-02\n",
      "  alpha = 8.678E-01\n",
      "\n",
      "Epoch 16.0:\n",
      "  xk = [-0.170, -0.724, -1.102, -1.269]\n",
      "  f(xk) = 0.788\n",
      "  ||gk|| = 1.762E-03\n",
      "  stop_crit = 1.263E-03\n",
      "  ||dir|| = 2.681E-02\n",
      "  alpha = 1.000E+00\n",
      "\n",
      "Epoch 17.0:\n",
      "  xk = [-0.157, -0.706, -1.095, -1.282]\n",
      "  f(xk) = 0.788\n",
      "  ||gk|| = 9.909E-04\n",
      "  stop_crit = 8.549E-04\n",
      "  ||dir|| = 1.059E-02\n",
      "  alpha = 1.000E+00\n",
      "\n",
      "Epoch 18.0:\n",
      "  xk = [-0.153, -0.700, -1.087, -1.282]\n",
      "  f(xk) = 0.788\n",
      "  ||gk|| = 3.113E-04\n",
      "  stop_crit = 3.243E-04\n",
      "  ||dir|| = 4.382E-03\n",
      "  alpha = 1.000E+00\n",
      "\n",
      "Epoch 19.0:\n",
      "  xk = [-0.154, -0.701, -1.084, -1.279]\n",
      "  f(xk) = 0.788\n",
      "  ||gk|| = 3.509E-05\n",
      "  stop_crit = 3.550E-05\n",
      "  ||dir|| = 1.054E-03\n",
      "  alpha = 1.000E+00\n",
      "\n",
      "Epoch 20.0:\n",
      "  xk = [-0.155, -0.701, -1.084, -1.278]\n",
      "  f(xk) = 0.788\n",
      "  ||gk|| = 3.371E-06\n",
      "  stop_crit = 2.280E-06\n",
      "  ||dir|| = 1.064E-04\n",
      "  alpha = 1.000E+00\n",
      "\n",
      "Algorithm Optimized!\n",
      "  x* = [-0.155, -0.701, -1.084, -1.278]\n",
      "  f(x*) = 0.788\n"
     ]
    }
   ],
   "source": [
    "start = time.time()\n",
    "res = model.optimize(ioa, **{'verbose': True, \n",
    "                             'nbr_epochs': 1000, \n",
    "                             'batch': 100,\n",
    "                             'perc_hybrid': 0.3})\n",
    "stop = time.time()"
   ]
  },
  {
   "cell_type": "code",
   "execution_count": 11,
   "metadata": {},
   "outputs": [
    {
     "data": {
      "text/plain": [
       "0.07015252113342285"
      ]
     },
     "execution_count": 11,
     "metadata": {},
     "output_type": "execute_result"
    }
   ],
   "source": [
    "res['opti_time']"
   ]
  },
  {
   "cell_type": "code",
   "execution_count": 4,
   "metadata": {},
   "outputs": [
    {
     "data": {
      "text/plain": [
       "<biogeme.results.bioResults at 0x7fbcefa305f8>"
      ]
     },
     "execution_count": 4,
     "metadata": {},
     "output_type": "execute_result"
    }
   ],
   "source": [
    "model.biogeme.estimate()"
   ]
  },
  {
   "cell_type": "code",
   "execution_count": 13,
   "metadata": {},
   "outputs": [
    {
     "data": {
      "text/plain": [
       "0.074031"
      ]
     },
     "execution_count": 13,
     "metadata": {},
     "output_type": "execute_result"
    }
   ],
   "source": [
    "model.biogeme.optimizationTime.total_seconds()"
   ]
  },
  {
   "cell_type": "code",
   "execution_count": 11,
   "metadata": {},
   "outputs": [
    {
     "data": {
      "text/plain": [
       "datetime.timedelta"
      ]
     },
     "execution_count": 11,
     "metadata": {},
     "output_type": "execute_result"
    }
   ],
   "source": [
    "type(model.biogeme.optimizationTime)"
   ]
  },
  {
   "cell_type": "code",
   "execution_count": null,
   "metadata": {},
   "outputs": [],
   "source": []
  }
 ],
 "metadata": {
  "kernelspec": {
   "display_name": "Python 3",
   "language": "python",
   "name": "python3"
  },
  "language_info": {
   "codemirror_mode": {
    "name": "ipython",
    "version": 3
   },
   "file_extension": ".py",
   "mimetype": "text/x-python",
   "name": "python",
   "nbconvert_exporter": "python",
   "pygments_lexer": "ipython3",
   "version": "3.6.3"
  }
 },
 "nbformat": 4,
 "nbformat_minor": 2
}
