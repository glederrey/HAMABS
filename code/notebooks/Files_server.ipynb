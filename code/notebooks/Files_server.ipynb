{
 "cells": [
  {
   "cell_type": "code",
   "execution_count": 1,
   "metadata": {},
   "outputs": [],
   "source": [
    "import os\n",
    "os.chdir('..')"
   ]
  },
  {
   "cell_type": "code",
   "execution_count": 2,
   "metadata": {},
   "outputs": [],
   "source": [
    "import pystache\n",
    "\n",
    "data_folder = '../data/'\n",
    "server_folder = './server/'\n",
    "template_folder = './templates/'\n",
    "\n",
    "# For the Python notebook\n",
    "%matplotlib inline\n",
    "%reload_ext autoreload\n",
    "%autoreload 2"
   ]
  },
  {
   "cell_type": "code",
   "execution_count": 3,
   "metadata": {},
   "outputs": [],
   "source": [
    "directions = ['grad', 'hess', 'bfgs', 'hybrid']\n",
    "types = ['LS', 'TR', 'LS-ABS', 'TR-ABS']\n",
    "\n",
    "combinations = {}\n",
    "\n",
    "# Add all combinations\n",
    "for d in directions:\n",
    "    for t in types:\n",
    "        combinations[t + '_' + d] = {'type': t, 'direction': d}\n",
    "        \n",
    "# Remove the unfeasible ones\n",
    "del combinations['TR_grad']\n",
    "del combinations['TR-ABS_grad']\n",
    "del combinations['LS_hybrid']\n",
    "del combinations['TR_hybrid']"
   ]
  },
  {
   "cell_type": "code",
   "execution_count": 55,
   "metadata": {},
   "outputs": [],
   "source": [
    "general_params = {\n",
    "    'model': 'MNL',\n",
    "    'repetitions': 20,\n",
    "    'batch': 100,\n",
    "    'scitas': False,\n",
    "    'time': '24'}"
   ]
  },
  {
   "cell_type": "code",
   "execution_count": 11,
   "metadata": {},
   "outputs": [],
   "source": [
    "general_params = {\n",
    "    'model': 'Nested',\n",
    "    'repetitions': 20,\n",
    "    'batch': 100,\n",
    "    'scitas': False,\n",
    "    'time': '24'}"
   ]
  },
  {
   "cell_type": "code",
   "execution_count": 9,
   "metadata": {},
   "outputs": [],
   "source": [
    "general_params = {\n",
    "    'model': 'LPMC_DrivingCost',\n",
    "    'repetitions': 20,\n",
    "    'batch': 1000,\n",
    "    'scitas': True,\n",
    "    'time': '12'}"
   ]
  },
  {
   "cell_type": "code",
   "execution_count": 56,
   "metadata": {},
   "outputs": [],
   "source": [
    "general_params = {\n",
    "    'model': 'LPMC_RemoveRest',\n",
    "    'repetitions': 20,\n",
    "    'batch': 1000,\n",
    "    'scitas': True,\n",
    "    'time': '24'}"
   ]
  },
  {
   "cell_type": "code",
   "execution_count": 7,
   "metadata": {},
   "outputs": [],
   "source": [
    "general_params = {\n",
    "    'model': 'LPMC_Full',\n",
    "    'repetitions': 20,\n",
    "    'batch': 1000,\n",
    "    'scitas': True,\n",
    "    'time': '36'}"
   ]
  },
  {
   "cell_type": "code",
   "execution_count": 12,
   "metadata": {},
   "outputs": [],
   "source": [
    "if not os.path.exists(server_folder + general_params['model']):\n",
    "    os.makedirs(server_folder + general_params['model'])\n",
    "    \n",
    "infile = open(server_folder + general_params['model'] + '/run_all.sh', 'w+')    \n",
    "\n",
    "prep_line = None\n",
    "if general_params['scitas']:\n",
    "    prep_line = 'sbatch {}.run\\n'\n",
    "else:\n",
    "    prep_line = 'python {}.py\\n'\n",
    "    \n",
    "lines = [prep_line.format(c) for c in combinations]\n",
    "\n",
    "for l in lines:\n",
    "    infile.write(l)\n",
    "\n",
    "for c in combinations:\n",
    "    \n",
    "    params = general_params\n",
    "    params['type'] = combinations[c]['type']\n",
    "    params['direction'] = combinations[c]['direction']\n",
    "    params['filename'] = c\n",
    "\n",
    "    with open(template_folder + '/optimization_python.mustache', 'r') as infile:\n",
    "        tmpl = infile.read()\n",
    "        \n",
    "    tmpl_filed = pystache.render(tmpl, params)\n",
    "    \n",
    "    with open(server_folder + params['model'] + '/' + params['filename'] + '.py', 'w') as outfile:\n",
    "        outfile.write(tmpl_filed)\n",
    "    \n",
    "    if params['scitas']:\n",
    "        with open(template_folder + '/optimization_scrum.mustache', 'r') as infile:\n",
    "            tmpl = infile.read()\n",
    "            \n",
    "        tmpl_filed = pystache.render(tmpl, params)\n",
    "    \n",
    "        with open(server_folder + params['model'] + '/' + params['filename'] + '.run', 'w') as outfile:\n",
    "            outfile.write(tmpl_filed)\n",
    "        "
   ]
  },
  {
   "cell_type": "code",
   "execution_count": null,
   "metadata": {},
   "outputs": [],
   "source": []
  }
 ],
 "metadata": {
  "kernelspec": {
   "display_name": "Python 3",
   "language": "python",
   "name": "python3"
  },
  "language_info": {
   "codemirror_mode": {
    "name": "ipython",
    "version": 3
   },
   "file_extension": ".py",
   "mimetype": "text/x-python",
   "name": "python",
   "nbconvert_exporter": "python",
   "pygments_lexer": "ipython3",
   "version": "3.6.3"
  }
 },
 "nbformat": 4,
 "nbformat_minor": 2
}
