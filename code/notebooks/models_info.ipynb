{
 "cells": [
  {
   "cell_type": "code",
   "execution_count": 1,
   "metadata": {},
   "outputs": [],
   "source": [
    "import os\n",
    "os.chdir('..')"
   ]
  },
  {
   "cell_type": "code",
   "execution_count": 2,
   "metadata": {},
   "outputs": [],
   "source": [
    "from models import MNL, Nested, LPMC_DrivingCost, LPMC_RemoveRest, LPMC_Full, MTMC\n",
    "\n",
    "data_folder = '../data/'\n",
    "\n",
    "# For the Python notebook\n",
    "%matplotlib inline\n",
    "%reload_ext autoreload\n",
    "%autoreload 2"
   ]
  },
  {
   "cell_type": "markdown",
   "metadata": {},
   "source": [
    "# Swissmetro\n",
    "\n",
    "Size of the dataset"
   ]
  },
  {
   "cell_type": "code",
   "execution_count": 3,
   "metadata": {},
   "outputs": [
    {
     "data": {
      "text/plain": [
       "6768"
      ]
     },
     "execution_count": 3,
     "metadata": {},
     "output_type": "execute_result"
    }
   ],
   "source": [
    "model = MNL(data_folder)\n",
    "len(model.biogeme.database.data)"
   ]
  },
  {
   "cell_type": "markdown",
   "metadata": {},
   "source": [
    "Nbr params MNL"
   ]
  },
  {
   "cell_type": "code",
   "execution_count": 6,
   "metadata": {},
   "outputs": [
    {
     "name": "stdout",
     "output_type": "stream",
     "text": [
      "Free params: 4\n",
      "Fixed params: 1\n"
     ]
    }
   ],
   "source": [
    "model = MNL(data_folder)\n",
    "print(\"Free params: {}\".format(len(model.biogeme.freeBetaNames)))\n",
    "print(\"Fixed params: {}\".format(len(model.biogeme.fixedBetaNames)))"
   ]
  },
  {
   "cell_type": "markdown",
   "metadata": {},
   "source": [
    "Nbr params Nested"
   ]
  },
  {
   "cell_type": "code",
   "execution_count": 7,
   "metadata": {
    "scrolled": true
   },
   "outputs": [
    {
     "name": "stdout",
     "output_type": "stream",
     "text": [
      "Free params: 5\n",
      "Fixed params: 1\n"
     ]
    }
   ],
   "source": [
    "model = Nested(data_folder)\n",
    "print(\"Free params: {}\".format(len(model.biogeme.freeBetaNames)))\n",
    "print(\"Fixed params: {}\".format(len(model.biogeme.fixedBetaNames)))"
   ]
  },
  {
   "cell_type": "markdown",
   "metadata": {},
   "source": [
    "# LPMC"
   ]
  },
  {
   "cell_type": "markdown",
   "metadata": {},
   "source": [
    "Size of the datasets:"
   ]
  },
  {
   "cell_type": "code",
   "execution_count": 15,
   "metadata": {},
   "outputs": [
    {
     "data": {
      "text/plain": [
       "27478"
      ]
     },
     "execution_count": 15,
     "metadata": {},
     "output_type": "execute_result"
    }
   ],
   "source": [
    "model = LPMC_DrivingCost(data_folder, '12.csv')\n",
    "len(model.biogeme.database.data)"
   ]
  },
  {
   "cell_type": "code",
   "execution_count": 7,
   "metadata": {},
   "outputs": [
    {
     "data": {
      "text/plain": [
       "54766"
      ]
     },
     "execution_count": 7,
     "metadata": {},
     "output_type": "execute_result"
    }
   ],
   "source": [
    "model = LPMC_DrivingCost(data_folder, '12_13.csv')\n",
    "len(model.biogeme.database.data)"
   ]
  },
  {
   "cell_type": "code",
   "execution_count": 8,
   "metadata": {},
   "outputs": [
    {
     "data": {
      "text/plain": [
       "81086"
      ]
     },
     "execution_count": 8,
     "metadata": {},
     "output_type": "execute_result"
    }
   ],
   "source": [
    "model = LPMC_DrivingCost(data_folder, '12_13_14.csv')\n",
    "len(model.biogeme.database.data)"
   ]
  },
  {
   "cell_type": "markdown",
   "metadata": {},
   "source": [
    "Nbr params LPMC_DrivingCost"
   ]
  },
  {
   "cell_type": "code",
   "execution_count": 8,
   "metadata": {},
   "outputs": [
    {
     "name": "stdout",
     "output_type": "stream",
     "text": [
      "Free params: 13\n",
      "Fixed params: 1\n"
     ]
    }
   ],
   "source": [
    "model = LPMC_DrivingCost(data_folder, '12.csv')\n",
    "print(\"Free params: {}\".format(len(model.biogeme.freeBetaNames)))\n",
    "print(\"Fixed params: {}\".format(len(model.biogeme.fixedBetaNames)))"
   ]
  },
  {
   "cell_type": "markdown",
   "metadata": {},
   "source": [
    "Nbr params LPMC_RemoveRest"
   ]
  },
  {
   "cell_type": "code",
   "execution_count": 9,
   "metadata": {},
   "outputs": [
    {
     "name": "stdout",
     "output_type": "stream",
     "text": [
      "Free params: 54\n",
      "Fixed params: 17\n"
     ]
    }
   ],
   "source": [
    "model = LPMC_RemoveRest(data_folder, '12.csv')\n",
    "print(\"Free params: {}\".format(len(model.biogeme.freeBetaNames)))\n",
    "print(\"Fixed params: {}\".format(len(model.biogeme.fixedBetaNames)))"
   ]
  },
  {
   "cell_type": "markdown",
   "metadata": {},
   "source": [
    "Nbr params LPMC_Full"
   ]
  },
  {
   "cell_type": "code",
   "execution_count": 10,
   "metadata": {},
   "outputs": [
    {
     "name": "stdout",
     "output_type": "stream",
     "text": [
      "Free params: 100\n",
      "Fixed params: 198\n"
     ]
    }
   ],
   "source": [
    "model = LPMC_Full(data_folder, '12.csv')\n",
    "print(\"Free params: {}\".format(len(model.biogeme.freeBetaNames)))\n",
    "print(\"Fixed params: {}\".format(len(model.biogeme.fixedBetaNames)))"
   ]
  },
  {
   "cell_type": "markdown",
   "metadata": {},
   "source": [
    "# MTMC"
   ]
  },
  {
   "cell_type": "markdown",
   "metadata": {},
   "source": [
    "Size dataset"
   ]
  },
  {
   "cell_type": "code",
   "execution_count": 9,
   "metadata": {},
   "outputs": [
    {
     "data": {
      "text/plain": [
       "56915"
      ]
     },
     "execution_count": 9,
     "metadata": {},
     "output_type": "execute_result"
    }
   ],
   "source": [
    "model = MTMC(data_folder)\n",
    "len(model.biogeme.database.data)"
   ]
  },
  {
   "cell_type": "markdown",
   "metadata": {},
   "source": [
    "Nbr params"
   ]
  },
  {
   "cell_type": "code",
   "execution_count": 11,
   "metadata": {},
   "outputs": [
    {
     "name": "stdout",
     "output_type": "stream",
     "text": [
      "Free params: 247\n",
      "Fixed params: 146\n"
     ]
    }
   ],
   "source": [
    "model = MTMC(data_folder)\n",
    "print(\"Free params: {}\".format(len(model.biogeme.freeBetaNames)))\n",
    "print(\"Fixed params: {}\".format(len(model.biogeme.fixedBetaNames)))"
   ]
  }
 ],
 "metadata": {
  "kernelspec": {
   "display_name": "Python 3",
   "language": "python",
   "name": "python3"
  },
  "language_info": {
   "codemirror_mode": {
    "name": "ipython",
    "version": 3
   },
   "file_extension": ".py",
   "mimetype": "text/x-python",
   "name": "python",
   "nbconvert_exporter": "python",
   "pygments_lexer": "ipython3",
   "version": "3.6.3"
  }
 },
 "nbformat": 4,
 "nbformat_minor": 2
}
