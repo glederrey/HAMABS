{
 "cells": [
  {
   "cell_type": "code",
   "execution_count": 1,
   "metadata": {},
   "outputs": [],
   "source": [
    "import os\n",
    "os.chdir('..')"
   ]
  },
  {
   "cell_type": "code",
   "execution_count": 12,
   "metadata": {},
   "outputs": [],
   "source": [
    "from models import SM_MNL, SM_Nested, LPMC_MNL_DC, LPMC_MNL_RR, LPMC_MNL_Full, MTMC_MNL\n",
    "\n",
    "import json\n",
    "import numpy as np\n",
    "from algos.helpers import stop_crit\n",
    "\n",
    "data_folder = '../data/'\n",
    "\n",
    "res_folder = './server/opti_results/results/'\n",
    "\n",
    "# For the Python notebook\n",
    "%matplotlib inline\n",
    "%reload_ext autoreload\n",
    "%autoreload 2"
   ]
  },
  {
   "cell_type": "code",
   "execution_count": 20,
   "metadata": {},
   "outputs": [],
   "source": [
    "models = [\n",
    "    'SM_MNL',\n",
    "    'SM_Nested',\n",
    "    'LPMC_MNL_DC_S',\n",
    "    'LPMC_MNL_DC_M',\n",
    "    'LPMC_MNL_DC_L',\n",
    "    'LPMC_MNL_RR_S',\n",
    "    'LPMC_MNL_RR_M',\n",
    "    'LPMC_MNL_RR_L',\n",
    "    'LPMC_MNL_Full_S',\n",
    "    'LPMC_MNL_Full_M',\n",
    "    'LPMC_MNL_Full_L',\n",
    "    'MTMC_MNL'\n",
    "]"
   ]
  },
  {
   "cell_type": "code",
   "execution_count": 21,
   "metadata": {},
   "outputs": [],
   "source": [
    "scipy_tol = {}\n",
    "\n",
    "for m in models:\n",
    "    with open(res_folder + m + '.json', 'r') as infile:\n",
    "        res = json.loads(json.load(infile))\n",
    "        \n",
    "    grad = res['jac']\n",
    "    gtol = np.linalg.norm(grad)\n",
    "    \n",
    "    scipy_tol[m] = gtol\n",
    "    \n",
    "with open('./notebooks/scipy_tol.json', 'w') as outfile:\n",
    "    json.dump(scipy_tol, outfile)"
   ]
  },
  {
   "cell_type": "code",
   "execution_count": 22,
   "metadata": {},
   "outputs": [
    {
     "data": {
      "text/plain": [
       "{'SM_MNL': 7.642798628403955e-07,\n",
       " 'SM_Nested': 0.002632133985487234,\n",
       " 'LPMC_MNL_DC_S': 0.020730678636620467,\n",
       " 'LPMC_MNL_DC_M': 0.030587953346164,\n",
       " 'LPMC_MNL_DC_L': 0.018469186442901655,\n",
       " 'LPMC_MNL_RR_S': 0.01270645540385412,\n",
       " 'LPMC_MNL_RR_M': 0.06480577317378522,\n",
       " 'LPMC_MNL_RR_L': 0.07456617283185099,\n",
       " 'LPMC_MNL_Full_S': 0.010964620444812539,\n",
       " 'LPMC_MNL_Full_M': 0.014797180351006444,\n",
       " 'LPMC_MNL_Full_L': 0.034207890503777635,\n",
       " 'MTMC_MNL': 0.17199854908585915}"
      ]
     },
     "execution_count": 22,
     "metadata": {},
     "output_type": "execute_result"
    }
   ],
   "source": [
    "scipy_tol"
   ]
  },
  {
   "cell_type": "code",
   "execution_count": 23,
   "metadata": {},
   "outputs": [
    {
     "data": {
      "text/plain": [
       "2.599275815486908"
      ]
     },
     "execution_count": 23,
     "metadata": {},
     "output_type": "execute_result"
    }
   ],
   "source": [
    "np.mean([2.2024285793304443, 1.9962024688720703, 1.9786150455474854, 2.5741305351257324, 2.6390016078948975, 2.421583652496338, 2.2231006622314453, 2.1894848346710205, 2.8209340572357178, 2.5823822021484375, 2.4043946266174316, 2.8094241619110107, 3.033867835998535, 2.860747814178467, 2.634279251098633, 2.656745195388794, 2.8091328144073486, 2.4680023193359375, 2.3742775917053223, 4.306781053543091])"
   ]
  },
  {
   "cell_type": "code",
   "execution_count": null,
   "metadata": {},
   "outputs": [],
   "source": []
  }
 ],
 "metadata": {
  "kernelspec": {
   "display_name": "Python 3",
   "language": "python",
   "name": "python3"
  },
  "language_info": {
   "codemirror_mode": {
    "name": "ipython",
    "version": 3
   },
   "file_extension": ".py",
   "mimetype": "text/x-python",
   "name": "python",
   "nbconvert_exporter": "python",
   "pygments_lexer": "ipython3",
   "version": "3.6.3"
  }
 },
 "nbformat": 4,
 "nbformat_minor": 2
}
