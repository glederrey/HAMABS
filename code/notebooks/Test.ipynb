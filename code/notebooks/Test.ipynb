{
 "cells": [
  {
   "cell_type": "code",
   "execution_count": 2,
   "metadata": {},
   "outputs": [],
   "source": [
    "import os\n",
    "os.chdir('..')"
   ]
  },
  {
   "cell_type": "code",
   "execution_count": 8,
   "metadata": {},
   "outputs": [],
   "source": [
    "from models import MNL\n",
    "from models import Nested\n",
    "from models import LPMC_Full\n",
    "from algos import OptAlg\n",
    "\n",
    "import numpy as np\n",
    "import matplotlib.pyplot as plt\n",
    "import seaborn as sns\n",
    "import time\n",
    "\n",
    "sns.set(font_scale=1.5)\n",
    "\n",
    "data_folder = '../data/'\n",
    "figures_folder = '../figures/'\n",
    "\n",
    "# For the Python notebook\n",
    "%matplotlib inline\n",
    "%reload_ext autoreload\n",
    "%autoreload 2"
   ]
  },
  {
   "cell_type": "code",
   "execution_count": 4,
   "metadata": {},
   "outputs": [],
   "source": [
    "model = MNL(data_folder)"
   ]
  },
  {
   "cell_type": "code",
   "execution_count": 20,
   "metadata": {},
   "outputs": [],
   "source": [
    "ioa = OptAlg(alg_type='TR', direction='hess')"
   ]
  },
  {
   "cell_type": "code",
   "execution_count": 32,
   "metadata": {
    "scrolled": true
   },
   "outputs": [
    {
     "name": "stderr",
     "output_type": "stream",
     "text": [
      "Maximizing the problem using a Trust Region IOA with the Hessian direction.\n",
      "Epoch 0:\n",
      "  xk = [0.000, 0.000, 0.000, 0.000]\n",
      "  f(xk) = 100.000\n",
      "  ||gk|| = 3.472E+01\n",
      "  stop_crit = 0.000E+00\n",
      "  Solving sub-problem:\n",
      "     Iter       <r,g>      curv\n",
      "    ----------------------------\n",
      "     1       1.21e+03  4.14e+04\n",
      "    Boundary reached!\n",
      "  rho = 1.109\n",
      "  deltak = 1.00\n",
      "  zk = [-0.04093866 -0.63744391 -0.09288045 -0.76378172]\n",
      "  ||zk|| = 1.000E+00\n",
      "  status: Boundary active\n",
      "\n",
      "Epoch 1.0:\n",
      "  xk = [-0.041, -0.637, -0.093, -0.764]\n",
      "  f(xk) = 80.530\n",
      "  ||gk|| = 8.387E+00\n",
      "  stop_crit = 4.696E-02\n",
      "  Solving sub-problem:\n",
      "     Iter       <r,g>      curv\n",
      "    ----------------------------\n",
      "     1       7.03e+01  8.81e+02\n",
      "     2       2.11e+01  3.34e+02\n",
      "     3       4.43e-01  8.67e+00\n",
      "     4       5.40e-03  1.52e-02\n",
      "  rho = 1.099\n",
      "  deltak = 2.00\n",
      "  zk = [-0.0905338  -0.12107876 -0.78833707 -0.36696626]\n",
      "  ||zk|| = 8.826E-01\n",
      "  status: None\n",
      "\n",
      "Epoch 2.0:\n",
      "  xk = [-0.131, -0.759, -0.881, -1.131]\n",
      "  f(xk) = 76.700\n",
      "  ||gk|| = 1.361E+00\n",
      "  stop_crit = 1.276E-02\n",
      "  Solving sub-problem:\n",
      "     Iter       <r,g>      curv\n",
      "    ----------------------------\n",
      "     1       1.85e+00  1.73e+01\n",
      "     2       1.08e+00  1.34e+01\n",
      "     3       2.03e-02  6.36e-02\n",
      "     4       1.68e-02  2.22e-01\n",
      "  rho = 1.043\n",
      "  deltak = 2.00\n",
      "  zk = [-0.02174556  0.0524083  -0.18896167 -0.13659518]\n",
      "  ||zk|| = 2.400E-01\n",
      "  status: None\n",
      "\n",
      "Epoch 3.0:\n",
      "  xk = [-0.153, -0.706, -1.070, -1.267]\n",
      "  f(xk) = 76.548\n",
      "  ||gk|| = 8.655E-02\n",
      "  stop_crit = 8.973E-04\n",
      "  Solving sub-problem:\n",
      "     Iter       <r,g>      curv\n",
      "    ----------------------------\n",
      "     1       7.49e-03  6.37e-02\n",
      "     2       5.03e-03  5.74e-02\n",
      "     3       1.29e-04  4.28e-04\n",
      "     4       1.27e-04  1.51e-03\n",
      "  rho = 1.003\n",
      "  deltak = 2.00\n",
      "  zk = [-0.00140727  0.00490348 -0.01354613 -0.01046509]\n",
      "  ||zk|| = 1.786E-02\n",
      "  status: None\n",
      "\n",
      "Epoch 4.0:\n",
      "  xk = [-0.155, -0.701, -1.084, -1.278]\n",
      "  f(xk) = 76.547\n",
      "  ||gk|| = 4.268E-04\n",
      "  stop_crit = 4.595E-06\n",
      "  Solving sub-problem:\n",
      "     Iter       <r,g>      curv\n",
      "    ----------------------------\n",
      "     1       1.82e-07  1.65e-06\n",
      "     2       1.19e-07  1.26e-06\n",
      "     3       3.17e-09  1.09e-08\n",
      "     4       3.29e-09  3.75e-08\n",
      "  rho = 1.000\n",
      "  deltak = 2.00\n",
      "  zk = [-7.12313966e-06  2.41754773e-05 -6.53325731e-05 -5.20072499e-05]\n",
      "  ||zk|| = 8.723E-05\n",
      "  status: None\n",
      "\n",
      "Algorithm Optimized!\n",
      "  x* = [-0.155, -0.701, -1.084, -1.278]\n",
      "  f(x*) = 76.547\n"
     ]
    }
   ],
   "source": [
    "start = time.time()\n",
    "res = model.optimize(ioa, **{'verbose': True, \n",
    "                             'nbr_epochs': 1000, \n",
    "                             'batch': 1000,\n",
    "                             'scale': True})\n",
    "stop = time.time()"
   ]
  },
  {
   "cell_type": "code",
   "execution_count": 33,
   "metadata": {},
   "outputs": [
    {
     "data": {
      "text/plain": [
       "0.1287693977355957"
      ]
     },
     "execution_count": 33,
     "metadata": {},
     "output_type": "execute_result"
    }
   ],
   "source": [
    "stop-start"
   ]
  },
  {
   "cell_type": "code",
   "execution_count": 31,
   "metadata": {},
   "outputs": [
    {
     "data": {
      "text/plain": [
       "       fun: -5331.252006915825\n",
       "      hess: array([[-1026.18642175,   197.06832306,   258.81644345,  -362.6822181 ],\n",
       "       [  197.06832306,  -761.39292515,    59.47899058,  -452.91230874],\n",
       "       [  258.81644345,    59.47899058,  -467.4183357 ,   235.86928667],\n",
       "       [ -362.6822181 ,  -452.91230874,   235.86928667,  -825.7763416 ]])\n",
       "       jac: array([-3.45734506e-07,  1.93205096e-09, -4.13584232e-07, -4.70540385e-07])\n",
       "       nep: 5.0\n",
       "       nit: 5\n",
       " opti_time: 0.28456100000000006\n",
       "    status: 'Algorithm optimized'\n",
       " stop_crit: 1.1278492469655995e-10\n",
       "   success: True\n",
       "         x: array([-0.15463242, -0.70118671, -1.08379065, -1.27786025])"
      ]
     },
     "execution_count": 31,
     "metadata": {},
     "output_type": "execute_result"
    }
   ],
   "source": [
    "res"
   ]
  },
  {
   "cell_type": "code",
   "execution_count": null,
   "metadata": {},
   "outputs": [],
   "source": []
  }
 ],
 "metadata": {
  "kernelspec": {
   "display_name": "Python 3",
   "language": "python",
   "name": "python3"
  },
  "language_info": {
   "codemirror_mode": {
    "name": "ipython",
    "version": 3
   },
   "file_extension": ".py",
   "mimetype": "text/x-python",
   "name": "python",
   "nbconvert_exporter": "python",
   "pygments_lexer": "ipython3",
   "version": "3.6.3"
  }
 },
 "nbformat": 4,
 "nbformat_minor": 2
}
