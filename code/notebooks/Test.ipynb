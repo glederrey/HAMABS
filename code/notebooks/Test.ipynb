{
 "cells": [
  {
   "cell_type": "code",
   "execution_count": 1,
   "metadata": {},
   "outputs": [],
   "source": [
    "import os\n",
    "os.chdir('..')"
   ]
  },
  {
   "cell_type": "code",
   "execution_count": 2,
   "metadata": {},
   "outputs": [],
   "source": [
    "from models import MNL\n",
    "from models import Nested\n",
    "from algos import OptAlg\n",
    "\n",
    "import numpy as np\n",
    "import matplotlib.pyplot as plt\n",
    "import seaborn as sns\n",
    "\n",
    "sns.set(font_scale=1.5)\n",
    "\n",
    "data_folder = '../data/'\n",
    "figures_folder = '../figures/'\n",
    "\n",
    "# For the Python notebook\n",
    "%matplotlib inline\n",
    "%reload_ext autoreload\n",
    "%autoreload 2"
   ]
  },
  {
   "cell_type": "code",
   "execution_count": 3,
   "metadata": {},
   "outputs": [],
   "source": [
    "model = Nested(data_folder)"
   ]
  },
  {
   "cell_type": "code",
   "execution_count": 9,
   "metadata": {},
   "outputs": [],
   "source": [
    "ioa = OptAlg(alg_type='LS', direction='bfgs')"
   ]
  },
  {
   "cell_type": "code",
   "execution_count": 10,
   "metadata": {
    "scrolled": true
   },
   "outputs": [
    {
     "name": "stderr",
     "output_type": "stream",
     "text": [
      "Maximizing the problem using a Line Search IOA with the BFGS direction.\n",
      "Epoch 0:\n",
      "  xk = [0.000, 0.000, 0.000, 0.000, 2.050]\n",
      "  f(xk) = 6511.310\n",
      "  ||gk|| = 2.935E+03\n",
      "  stop_crit = 5.406E-02\n",
      "  ||dir|| = 2.935E+03\n",
      "  alpha = 2.677E-04\n",
      "\n",
      "Epoch 1.0:\n",
      "  xk = [0.220, -0.534, -0.165, -0.505, 2.096]\n",
      "  f(xk) = 5596.220\n",
      "  ||gk|| = 1.088E+03\n",
      "  stop_crit = 3.421E-02\n",
      "  ||dir|| = 1.088E+03\n",
      "  alpha = 6.014E-04\n",
      "\n",
      "Epoch 2.0:\n",
      "  xk = [-0.188, -0.540, -0.471, -0.914, 2.072]\n",
      "  f(xk) = 5299.954\n",
      "  ||gk|| = 3.777E+02\n",
      "  stop_crit = 2.820E-02\n",
      "  ||dir|| = 3.929E+02\n",
      "  alpha = 1.161E-03\n",
      "\n",
      "Epoch 3.0:\n",
      "  xk = [-0.143, -0.493, -0.921, -0.882, 2.064]\n",
      "  f(xk) = 5240.078\n",
      "  ||gk|| = 9.595E+01\n",
      "  stop_crit = 1.054E-02\n",
      "  ||dir|| = 5.318E-02\n",
      "  alpha = 1.000E+00\n",
      "\n",
      "Epoch 4.0:\n",
      "  xk = [-0.168, -0.506, -0.888, -0.912, 2.064]\n",
      "  f(xk) = 5237.261\n",
      "  ||gk|| = 2.088E+01\n",
      "  stop_crit = 3.290E-03\n",
      "  ||dir|| = 3.159E-02\n",
      "  alpha = 1.000E+00\n",
      "\n",
      "Epoch 5.0:\n",
      "  xk = [-0.166, -0.509, -0.859, -0.905, 2.054]\n",
      "  f(xk) = 5236.913\n",
      "  ||gk|| = 5.065E+00\n",
      "  stop_crit = 7.559E-04\n",
      "  ||dir|| = 1.267E+00\n",
      "  alpha = 4.653E-03\n",
      "\n",
      "Epoch 6.0:\n",
      "  xk = [-0.169, -0.513, -0.860, -0.903, 2.052]\n",
      "  f(xk) = 5236.909\n",
      "  ||gk|| = 4.608E+00\n",
      "  stop_crit = 5.900E-04\n",
      "  ||dir|| = 3.023E-03\n",
      "  alpha = 5.691E-01\n",
      "\n",
      "Epoch 7.0:\n",
      "  xk = [-0.168, -0.513, -0.860, -0.901, 2.051]\n",
      "  f(xk) = 5236.903\n",
      "  ||gk|| = 2.240E+00\n",
      "  stop_crit = 2.702E-04\n",
      "  ||dir|| = 2.656E-03\n",
      "  alpha = 1.000E+00\n",
      "\n",
      "Epoch 8.0:\n",
      "  xk = [-0.167, -0.512, -0.858, -0.900, 2.051]\n",
      "  f(xk) = 5236.901\n",
      "  ||gk|| = 1.159E+00\n",
      "  stop_crit = 7.838E-05\n",
      "  ||dir|| = 2.903E-04\n",
      "  alpha = 1.000E+00\n",
      "\n",
      "Epoch 9.0:\n",
      "  xk = [-0.167, -0.512, -0.858, -0.900, 2.051]\n",
      "  f(xk) = 5236.900\n",
      "  ||gk|| = 4.700E-01\n",
      "  stop_crit = 6.012E-05\n",
      "  ||dir|| = 2.125E-01\n",
      "  alpha = 9.765E-03\n",
      "\n",
      "Epoch 10.0:\n",
      "  xk = [-0.167, -0.512, -0.857, -0.899, 2.053]\n",
      "  f(xk) = 5236.900\n",
      "  ||gk|| = 4.380E-01\n",
      "  stop_crit = 4.619E-05\n",
      "  ||dir|| = 5.608E-04\n",
      "  alpha = 1.000E+00\n",
      "\n",
      "Epoch 11.0:\n",
      "  xk = [-0.167, -0.512, -0.857, -0.899, 2.053]\n",
      "  f(xk) = 5236.900\n",
      "  ||gk|| = 1.079E-01\n",
      "  stop_crit = 2.651E-05\n",
      "  ||dir|| = 1.036E-03\n",
      "  alpha = 1.000E+00\n",
      "\n",
      "Epoch 12.0:\n",
      "  xk = [-0.167, -0.512, -0.857, -0.899, 2.054]\n",
      "  f(xk) = 5236.900\n",
      "  ||gk|| = 3.922E-02\n",
      "  stop_crit = 5.436E-06\n",
      "  ||dir|| = 1.264E-04\n",
      "  alpha = 1.000E+00\n",
      "\n",
      "Epoch 13.0:\n",
      "  xk = [-0.167, -0.512, -0.857, -0.899, 2.054]\n",
      "  f(xk) = 5236.900\n",
      "  ||gk|| = 6.098E-03\n",
      "  stop_crit = 1.558E-06\n",
      "  ||dir|| = 6.454E-05\n",
      "  alpha = 1.000E+00\n",
      "\n",
      "Algorithm Optimized!\n",
      "  x* = [-0.167, -0.512, -0.857, -0.899, 2.054]\n",
      "  f(x*) = 5236.900\n"
     ]
    }
   ],
   "source": [
    "res = model.optimize(ioa, **{'verbose': True, \n",
    "                             'batch': 100, \n",
    "                             'nbr_epochs': 100})"
   ]
  },
  {
   "cell_type": "code",
   "execution_count": 8,
   "metadata": {},
   "outputs": [
    {
     "data": {
      "text/plain": [
       "       fun: 5236.900013606149\n",
       "      hess: array([[ 1.29484301e-03,  1.21046299e-03,  1.08513641e-05,\n",
       "        -1.24120518e-03, -8.19143767e-04],\n",
       "       [ 1.21046299e-03,  2.03333521e-03,  3.10092009e-04,\n",
       "        -1.21498489e-03,  7.53311534e-04],\n",
       "       [ 1.08513641e-05,  3.10092009e-04,  2.01303368e-03,\n",
       "         9.74614349e-04,  2.50766713e-03],\n",
       "       [-1.24120518e-03, -1.21498489e-03,  9.74614349e-04,\n",
       "         3.10713926e-03,  3.74020647e-03],\n",
       "       [-8.19143767e-04,  7.53311534e-04,  2.50766713e-03,\n",
       "         3.74020647e-03,  1.31069929e-02]])\n",
       "       jac: array([-0.00760453,  0.00483647, -0.0022151 , -0.00119293, -0.00085355])\n",
       "       nep: 12.0\n",
       "       nit: 12\n",
       " opti_time: 9.213759\n",
       "    status: 'Algorithm optimized'\n",
       " stop_crit: 4.7280241226962013e-07\n",
       "   success: True\n",
       "         x: array([-0.16715807, -0.51194728, -0.85667242, -0.89866991,  2.05405439])"
      ]
     },
     "execution_count": 8,
     "metadata": {},
     "output_type": "execute_result"
    }
   ],
   "source": [
    "res"
   ]
  },
  {
   "cell_type": "code",
   "execution_count": null,
   "metadata": {},
   "outputs": [],
   "source": []
  }
 ],
 "metadata": {
  "kernelspec": {
   "display_name": "Python 3",
   "language": "python",
   "name": "python3"
  },
  "language_info": {
   "codemirror_mode": {
    "name": "ipython",
    "version": 3
   },
   "file_extension": ".py",
   "mimetype": "text/x-python",
   "name": "python",
   "nbconvert_exporter": "python",
   "pygments_lexer": "ipython3",
   "version": "3.6.3"
  }
 },
 "nbformat": 4,
 "nbformat_minor": 2
}
