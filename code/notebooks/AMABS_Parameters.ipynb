{
 "cells": [
  {
   "cell_type": "code",
   "execution_count": 1,
   "metadata": {},
   "outputs": [],
   "source": [
    "import os\n",
    "os.chdir('..')"
   ]
  },
  {
   "cell_type": "code",
   "execution_count": 10,
   "metadata": {},
   "outputs": [],
   "source": [
    "import json\n",
    "\n",
    "import matplotlib.pyplot as plt\n",
    "import seaborn as sns\n",
    "\n",
    "sns.set(font_scale=1.5)\n",
    "\n",
    "figures_folder = '../figures/paper/'\n",
    "results_folder = './server/parameters/results/'\n",
    "\n",
    "# For the Python notebook\n",
    "%matplotlib inline\n",
    "%reload_ext autoreload\n",
    "%autoreload 2"
   ]
  },
  {
   "cell_type": "code",
   "execution_count": 9,
   "metadata": {},
   "outputs": [],
   "source": [
    "file = 'parameters_test.json'"
   ]
  },
  {
   "cell_type": "code",
   "execution_count": 11,
   "metadata": {},
   "outputs": [],
   "source": [
    "res = json.load(open(results_folder + file))"
   ]
  },
  {
   "cell_type": "code",
   "execution_count": 14,
   "metadata": {},
   "outputs": [],
   "source": [
    "params = ['thresh_upd', 'count_upd', 'window', 'factor_upd', 'perc_hybrid']\n",
    "\n",
    "str_params = {\n",
    "    'thresh_upd': '$\\Delta$ [%]',\n",
    "    'count_upd': '$C$',\n",
    "    'window': '$W$',\n",
    "    'factor_upd': '$\\tau$',\n",
    "    'perc_hybrid': '$\\Delta_H$ [%]'\n",
    "}"
   ]
  },
  {
   "cell_type": "code",
   "execution_count": 17,
   "metadata": {},
   "outputs": [
    {
     "name": "stdout",
     "output_type": "stream",
     "text": [
      "dict_keys(['0.01', '0.02', '0.05', '0.1', '0.2', '0.5', '1', '2', '5', '10', '20', '50', '100', '3', '4', '6', '7', '8', '9', '11', '12', '13', '14', '15', '16', '17', '18'])\n"
     ]
    },
    {
     "ename": "NameError",
     "evalue": "name 'asd' is not defined",
     "output_type": "error",
     "traceback": [
      "\u001b[0;31m---------------------------------------------------------------------------\u001b[0m",
      "\u001b[0;31mNameError\u001b[0m                                 Traceback (most recent call last)",
      "\u001b[0;32m<ipython-input-17-dd3bb1d38185>\u001b[0m in \u001b[0;36m<module>\u001b[0;34m\u001b[0m\n\u001b[1;32m      7\u001b[0m     \u001b[0mprint\u001b[0m\u001b[0;34m(\u001b[0m\u001b[0mtmp\u001b[0m\u001b[0;34m.\u001b[0m\u001b[0mkeys\u001b[0m\u001b[0;34m(\u001b[0m\u001b[0;34m)\u001b[0m\u001b[0;34m)\u001b[0m\u001b[0;34m\u001b[0m\u001b[0m\n\u001b[1;32m      8\u001b[0m \u001b[0;34m\u001b[0m\u001b[0m\n\u001b[0;32m----> 9\u001b[0;31m     \u001b[0masd\u001b[0m\u001b[0;34m\u001b[0m\u001b[0m\n\u001b[0m",
      "\u001b[0;31mNameError\u001b[0m: name 'asd' is not defined"
     ]
    }
   ],
   "source": [
    "time = res['base']['time']\n",
    "\n",
    "for p in params:\n",
    "    \n",
    "    tmp = res[p]\n",
    "    \n",
    "    print(tmp.keys())\n",
    "    \n",
    "    asd"
   ]
  },
  {
   "cell_type": "code",
   "execution_count": 16,
   "metadata": {},
   "outputs": [
    {
     "data": {
      "text/plain": [
       "{'time': [0.5005104541778564,\n",
       "  0.47522997856140137,\n",
       "  0.5481934547424316,\n",
       "  0.5314230918884277,\n",
       "  0.4335010051727295,\n",
       "  0.47647523880004883,\n",
       "  0.5335652828216553,\n",
       "  0.45131421089172363,\n",
       "  0.4356348514556885,\n",
       "  0.506476640701294],\n",
       " 'LL': [-5331.2520069158345,\n",
       "  -5331.252006926075,\n",
       "  -5331.25200691614,\n",
       "  -5331.252006915837,\n",
       "  -5331.252006915837,\n",
       "  -5331.252006918135,\n",
       "  -5331.252006917826,\n",
       "  -5331.25200693208,\n",
       "  -5331.252006920029,\n",
       "  -5331.252006939971],\n",
       " 'epochs': [9.807328605200947,\n",
       "  9.102836879432624,\n",
       "  12.955082742316785,\n",
       "  11.955082742316785,\n",
       "  8.511820330969268,\n",
       "  9.250591016548464,\n",
       "  12.511820330969268,\n",
       "  8.955082742316785,\n",
       "  8.659574468085108,\n",
       "  11.511820330969268]}"
      ]
     },
     "execution_count": 16,
     "metadata": {},
     "output_type": "execute_result"
    }
   ],
   "source": [
    "base"
   ]
  },
  {
   "cell_type": "code",
   "execution_count": null,
   "metadata": {},
   "outputs": [],
   "source": []
  }
 ],
 "metadata": {
  "kernelspec": {
   "display_name": "Python 3",
   "language": "python",
   "name": "python3"
  },
  "language_info": {
   "codemirror_mode": {
    "name": "ipython",
    "version": 3
   },
   "file_extension": ".py",
   "mimetype": "text/x-python",
   "name": "python",
   "nbconvert_exporter": "python",
   "pygments_lexer": "ipython3",
   "version": "3.6.3"
  }
 },
 "nbformat": 4,
 "nbformat_minor": 2
}
